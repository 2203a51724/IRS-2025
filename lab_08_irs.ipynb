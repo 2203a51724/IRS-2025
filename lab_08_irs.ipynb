{
  "nbformat": 4,
  "nbformat_minor": 0,
  "metadata": {
    "colab": {
      "provenance": [],
      "authorship_tag": "ABX9TyP1MFTMIiWqFD41Fn4ntFQW",
      "include_colab_link": true
    },
    "kernelspec": {
      "name": "python3",
      "display_name": "Python 3"
    },
    "language_info": {
      "name": "python"
    }
  },
  "cells": [
    {
      "cell_type": "markdown",
      "metadata": {
        "id": "view-in-github",
        "colab_type": "text"
      },
      "source": [
        "<a href=\"https://colab.research.google.com/github/2203a51724/IRS-2025/blob/main/lab_08_irs.ipynb\" target=\"_parent\"><img src=\"https://colab.research.google.com/assets/colab-badge.svg\" alt=\"Open In Colab\"/></a>"
      ]
    },
    {
      "cell_type": "code",
      "execution_count": 1,
      "metadata": {
        "colab": {
          "base_uri": "https://localhost:8080/"
        },
        "id": "xnborM5uH2n5",
        "outputId": "107ffa79-c59e-4ecd-d26a-7a8f6a974cf5"
      },
      "outputs": [
        {
          "output_type": "stream",
          "name": "stderr",
          "text": [
            "[nltk_data] Downloading package punkt to /root/nltk_data...\n",
            "[nltk_data]   Unzipping tokenizers/punkt.zip.\n",
            "[nltk_data] Downloading package averaged_perceptron_tagger to\n",
            "[nltk_data]     /root/nltk_data...\n",
            "[nltk_data]   Unzipping taggers/averaged_perceptron_tagger.zip.\n",
            "[nltk_data] Downloading package maxent_ne_chunker to\n",
            "[nltk_data]     /root/nltk_data...\n",
            "[nltk_data]   Unzipping chunkers/maxent_ne_chunker.zip.\n",
            "[nltk_data] Downloading package words to /root/nltk_data...\n",
            "[nltk_data]   Unzipping corpora/words.zip.\n",
            "[nltk_data] Downloading package treebank to /root/nltk_data...\n",
            "[nltk_data]   Unzipping corpora/treebank.zip.\n",
            "[nltk_data] Downloading package tagsets to /root/nltk_data...\n",
            "[nltk_data]   Unzipping help/tagsets.zip.\n"
          ]
        },
        {
          "output_type": "execute_result",
          "data": {
            "text/plain": [
              "True"
            ]
          },
          "metadata": {},
          "execution_count": 1
        }
      ],
      "source": [
        "import nltk\n",
        "import spacy\n",
        "from nltk import word_tokenize, pos_tag, ne_chunk\n",
        "from nltk.tree import Tree\n",
        "from sklearn.metrics import classification_report\n",
        "nltk.download('punkt')\n",
        "nltk.download('averaged_perceptron_tagger')\n",
        "nltk.download('maxent_ne_chunker')\n",
        "nltk.download('words')"
      ]
    },
    {
      "cell_type": "code",
      "source": [
        "import nltk\n",
        "import spacy\n",
        "from nltk import word_tokenize, pos_tag, ne_chunk\n",
        "from nltk.tree import Tree\n",
        "from sklearn.metrics import classification_report\n",
        "\n",
        "# Download necessary NLTK data packages\n",
        "nltk.download('punkt')\n",
        "nltk.download('averaged_perceptron_tagger')\n",
        "nltk.download('maxent_ne_chunker')\n",
        "nltk.download('words')\n",
        "# Download the 'punkt_tab' data package\n",
        "nltk.download('punkt_tab') # This line is added to download the missing data\n",
        "\n",
        "# Larger sample text\n",
        "text = '''Alan Musk, the CEO of xAI, announced that Grok AI has successfully achieved a new milestone\n",
        "in artificial intelligence. Speaking at a conference in California, he stated, \"The mission of xAI\n",
        "and Grok is to understand the universe. We want to answer the biggest questions: Where are the aliens?\n",
        "What’s the meaning of life? How does the universe end? To do that, we must rigorously pursue truth.\"\n",
        "\n",
        "In response, OpenAI, Google DeepMind, and Microsoft also shared their recent advancements in AI technology.\n",
        "Sam Altman of OpenAI highlighted GPT-5’s improvements in reasoning and problem-solving. Meanwhile, Google’s\n",
        "CEO Sundar Pichai discussed Gemini AI and its capabilities in multimodal learning.\n",
        "\n",
        "The event, held on February 20, 2025, attracted experts from MIT, Stanford, and Oxford University.'''\n",
        "print(text)\n",
        "\n",
        "def nltk_ner(text):\n",
        "    print(\"\\n--- NLTK Named Entity Recognition ---\\n\")\n",
        "\n",
        "    # Step 1: Tokenization\n",
        "    words = word_tokenize(text)\n",
        "    if not words:  # Check if tokenization failed\n",
        "        print(\"Error: Tokenization failed. No words found.\")\n",
        "        return\n",
        "    print(\"Tokenized Words:\", words[:50], \"...\")  # Print only first 50 words for brevity\n",
        "\n",
        "    # Step 2: POS Tagging\n",
        "    try:\n",
        "        pos_tags = pos_tag(words)\n",
        "    except LookupError:\n",
        "        print(\"Error: Resource 'averaged_perceptron_tagger' not found. Please download it using 'python -m nltk.downloader averaged_perceptron_tagger'\")\n",
        "        return\n",
        "    except Exception as e: # This except block was in a separate cell and is now correctly indented.\n",
        "        print(f\"Error during POS tagging: {e}\")\n",
        "        return\n",
        "    print(\"\\nPOS Tags:\", pos_tags[:15], \"...\")  # Print first 15 for readability\n",
        "\n",
        "    # Step 3: Named Entity Chunking\n",
        "    try:\n",
        "        chunked = ne_chunk(pos_tags)\n",
        "    except Exception as e:\n",
        "        print(f\"Error during Named Entity Chunking: {e}\")\n",
        "        return\n",
        "\n",
        "    # Step 4: Extract and print named entities\n",
        "    print(\"\\nExtracted Named Entities:\")\n",
        "    entities_found = False\n",
        "    for subtree in chunked:\n",
        "        if isinstance(subtree, Tree):  # Named Entity detected\n",
        "            entity_name = \" \".join([token for token, pos in subtree.leaves()])\n",
        "            entity_type = subtree.label()\n",
        "            print(f\"{entity_name}: {entity_type}\")\n",
        "            entities_found = True\n",
        "\n",
        "    if not entities_found:\n",
        "        print(\"No named entities found.\")\n",
        "\n",
        "    # Uncomment the next line to visualize the parse tree (requires GUI)\n",
        "    # chunked.draw()\n",
        "\n",
        "nltk_ner(text)"
      ],
      "metadata": {
        "colab": {
          "base_uri": "https://localhost:8080/"
        },
        "id": "0NwFUoaBJ5jg",
        "outputId": "a00c9f06-7a6a-455b-8927-9d445568f3bd"
      },
      "execution_count": 10,
      "outputs": [
        {
          "output_type": "stream",
          "name": "stderr",
          "text": [
            "[nltk_data] Downloading package punkt to /root/nltk_data...\n",
            "[nltk_data]   Package punkt is already up-to-date!\n",
            "[nltk_data] Downloading package averaged_perceptron_tagger to\n",
            "[nltk_data]     /root/nltk_data...\n",
            "[nltk_data]   Package averaged_perceptron_tagger is already up-to-\n",
            "[nltk_data]       date!\n",
            "[nltk_data] Downloading package maxent_ne_chunker to\n",
            "[nltk_data]     /root/nltk_data...\n",
            "[nltk_data]   Package maxent_ne_chunker is already up-to-date!\n",
            "[nltk_data] Downloading package words to /root/nltk_data...\n",
            "[nltk_data]   Package words is already up-to-date!\n",
            "[nltk_data] Downloading package punkt_tab to /root/nltk_data...\n",
            "[nltk_data]   Unzipping tokenizers/punkt_tab.zip.\n"
          ]
        },
        {
          "output_type": "stream",
          "name": "stdout",
          "text": [
            "Alan Musk, the CEO of xAI, announced that Grok AI has successfully achieved a new milestone\n",
            "in artificial intelligence. Speaking at a conference in California, he stated, \"The mission of xAI\n",
            "and Grok is to understand the universe. We want to answer the biggest questions: Where are the aliens?\n",
            "What’s the meaning of life? How does the universe end? To do that, we must rigorously pursue truth.\"\n",
            "\n",
            "In response, OpenAI, Google DeepMind, and Microsoft also shared their recent advancements in AI technology.\n",
            "Sam Altman of OpenAI highlighted GPT-5’s improvements in reasoning and problem-solving. Meanwhile, Google’s\n",
            "CEO Sundar Pichai discussed Gemini AI and its capabilities in multimodal learning.\n",
            "\n",
            "The event, held on February 20, 2025, attracted experts from MIT, Stanford, and Oxford University.\n",
            "\n",
            "--- NLTK Named Entity Recognition ---\n",
            "\n",
            "Tokenized Words: ['Alan', 'Musk', ',', 'the', 'CEO', 'of', 'xAI', ',', 'announced', 'that', 'Grok', 'AI', 'has', 'successfully', 'achieved', 'a', 'new', 'milestone', 'in', 'artificial', 'intelligence', '.', 'Speaking', 'at', 'a', 'conference', 'in', 'California', ',', 'he', 'stated', ',', '``', 'The', 'mission', 'of', 'xAI', 'and', 'Grok', 'is', 'to', 'understand', 'the', 'universe', '.', 'We', 'want', 'to', 'answer', 'the'] ...\n",
            "Error: Resource 'averaged_perceptron_tagger' not found. Please download it using 'python -m nltk.downloader averaged_perceptron_tagger'\n"
          ]
        }
      ]
    }
  ]
}